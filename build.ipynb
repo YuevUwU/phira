{
  "cells": [
    {
      "cell_type": "markdown",
      "metadata": {
        "id": "view-in-github",
        "colab_type": "text"
      },
      "source": [
        "<a href=\"https://colab.research.google.com/github/YuevUwU/phira/blob/build-sh/build.ipynb\" target=\"_parent\"><img src=\"https://colab.research.google.com/assets/colab-badge.svg\" alt=\"Open In Colab\"/></a>"
      ]
    },
    {
      "cell_type": "markdown",
      "source": [
        "# **Set Repository URL** (~0.5s)"
      ],
      "metadata": {
        "id": "M8D0Iw4dEiqq"
      }
    },
    {
      "cell_type": "code",
      "source": [
        "%env REPO_URL=https://github.com/TeamFlos/phira\n",
        "%env BRANCH=tags/v0.6.7"
      ],
      "metadata": {
        "id": "N5ORABlOEp1T"
      },
      "execution_count": null,
      "outputs": []
    },
    {
      "cell_type": "markdown",
      "metadata": {
        "id": "59HkYq0x_KqX"
      },
      "source": [
        "# **Before building**  (~47s)"
      ]
    },
    {
      "cell_type": "markdown",
      "metadata": {
        "id": "ZiDyiS2B7Tn5"
      },
      "source": [
        "## **Setup Rust and Common Dependencies** (~43s)"
      ]
    },
    {
      "cell_type": "code",
      "execution_count": null,
      "metadata": {
        "id": "gL5ewWZM-xe3"
      },
      "outputs": [],
      "source": [
        "!apt-get install -y curl zip unzip gcc make\n",
        "!curl --proto '=https' --tlsv1.2 -sSf https://sh.rustup.rs | sh -s -- -y --profile=minimal --default-toolchain nightly"
      ]
    },
    {
      "cell_type": "markdown",
      "metadata": {
        "id": "Ud6-kfD_7yoW"
      },
      "source": [
        "## **Clone Phira repository** (~2s)"
      ]
    },
    {
      "cell_type": "code",
      "execution_count": null,
      "metadata": {
        "id": "msp_2q07F6fu"
      },
      "outputs": [],
      "source": [
        "%cd /content/\n",
        "!git clone $REPO_URL\n",
        "%cd /content/phira\n",
        "!git checkout $BRANCH"
      ]
    },
    {
      "cell_type": "markdown",
      "metadata": {
        "id": "xWWB_L0q8LVs"
      },
      "source": [
        "## **Download prebuilt FFmpeg static library** (~2s)"
      ]
    },
    {
      "cell_type": "code",
      "execution_count": null,
      "metadata": {
        "id": "0a9H71Ae8Kek"
      },
      "outputs": [],
      "source": [
        "%cd /content/phira/prpr-avc\n",
        "!curl -LO https://github.com/TeamFlos/phira/files/14319201/static-lib.zip\n",
        "!unzip static-lib.zip -d static-lib\n",
        "!rm static-lib.zip"
      ]
    },
    {
      "cell_type": "markdown",
      "metadata": {
        "id": "dacYrCDb-bFf"
      },
      "source": [
        "# **Windows x86_64 (unoptimized, debug)** (~30m)"
      ]
    },
    {
      "cell_type": "markdown",
      "source": [
        "## **Install Dependencies** (~25s)"
      ],
      "metadata": {
        "id": "QYdv9QFALS1T"
      }
    },
    {
      "cell_type": "code",
      "source": [
        "!apt-get install -y libfindbin-libs-perl gcc-mingw-w64"
      ],
      "metadata": {
        "id": "M6Etj-zCLWd1"
      },
      "execution_count": null,
      "outputs": []
    },
    {
      "cell_type": "markdown",
      "source": [
        "## **Install Toolchain** (~6s)"
      ],
      "metadata": {
        "id": "v_O_uhUmJ3_l"
      }
    },
    {
      "cell_type": "code",
      "source": [
        "%cd /content/phira\n",
        "!/root/.cargo/bin/rustup +nightly target add x86_64-pc-windows-gnu"
      ],
      "metadata": {
        "id": "P7UPXIvaJ-wy"
      },
      "execution_count": null,
      "outputs": []
    },
    {
      "cell_type": "markdown",
      "source": [
        "## **Update ahash ([PR#438](https://github.com/TeamFlos/phira/pull/438))** (~5s)"
      ],
      "metadata": {
        "id": "59ebYbjfVp5C"
      }
    },
    {
      "cell_type": "code",
      "source": [
        "%cd /content/phira\n",
        "!sed -i 's/ahash = \"=0\\.8\\.6\"/ahash = \"=0.8.7\"/' prpr/Cargo.toml"
      ],
      "metadata": {
        "id": "pI8uoGy1Vp5F"
      },
      "execution_count": null,
      "outputs": []
    },
    {
      "cell_type": "markdown",
      "metadata": {
        "id": "z36BzpBF9Reo"
      },
      "source": [
        "## **Build for Windows x86_64** (~29m)"
      ]
    },
    {
      "cell_type": "code",
      "execution_count": null,
      "metadata": {
        "id": "KvNgOb36--dY"
      },
      "outputs": [],
      "source": [
        "%cd /content/phira\n",
        "!/root/.cargo/bin/cargo +nightly build --target=x86_64-pc-windows-gnu --bin phira-main"
      ]
    },
    {
      "cell_type": "markdown",
      "metadata": {
        "id": "tJol3AsJ9gvX"
      },
      "source": [
        "## **Packaging for Windows x86_64** (~28s)"
      ]
    },
    {
      "cell_type": "code",
      "execution_count": null,
      "metadata": {
        "id": "7TrwE7yr_e63"
      },
      "outputs": [],
      "source": [
        "!curl -s https://api.github.com/repos/TeamFlos/phira/releases/latest \\\n",
        "  | grep -o '\"browser_download_url\": *\"[^\"]*\"' \\\n",
        "  | grep \"windows\" \\\n",
        "  | grep \".zip\\\"\" \\\n",
        "  | sed 's/\"browser_download_url\": \"//' \\\n",
        "  | sed 's/\"$//' \\\n",
        "  | xargs -n 1 curl -o latest-windows.zip -L\n",
        "\n",
        "!mkdir -p out/x86_64-pc-windows-gnu\n",
        "!unzip latest-windows.zip -d out/x86_64-pc-windows-gnu\n",
        "!cp -rf assets out/x86_64-pc-windows-gnu/\n",
        "!cp -f target/x86_64-pc-windows-gnu/debug/phira-main.exe out/x86_64-pc-windows-gnu/phira-main.exe\n",
        "\n",
        "%cd /content/phira/out/x86_64-pc-windows-gnu\n",
        "\n",
        "zip_name=\"Phira-windows-$(date +%s%N).zip\"\n",
        "!zip -rq \"/content/$zip_name\" ."
      ]
    },
    {
      "cell_type": "markdown",
      "metadata": {
        "id": "GXGOE4_A-5TE"
      },
      "source": [
        "# **Linux x86_64 (unoptimized, debug)** (First run: ~23m)"
      ]
    },
    {
      "cell_type": "markdown",
      "source": [
        "## **Install Dependencies** (~33s)"
      ],
      "metadata": {
        "id": "XJkwnrKULq7H"
      }
    },
    {
      "cell_type": "code",
      "source": [
        "!apt-get install -y perl pkg-config libgtk-3-dev libasound2-dev"
      ],
      "metadata": {
        "id": "9fE8NCorLrxN"
      },
      "execution_count": null,
      "outputs": []
    },
    {
      "cell_type": "markdown",
      "source": [
        "## **Install Toolchain** (~0.3s)"
      ],
      "metadata": {
        "id": "7hPFUYOmKJL3"
      }
    },
    {
      "cell_type": "code",
      "source": [
        "%cd /content/phira\n",
        "!/root/.cargo/bin/rustup +nightly target add x86_64-unknown-linux-gnu"
      ],
      "metadata": {
        "id": "RYjysNz2KKKF"
      },
      "execution_count": null,
      "outputs": []
    },
    {
      "cell_type": "markdown",
      "source": [
        "## **Update ahash ([PR#438](https://github.com/TeamFlos/phira/pull/438))** (~4s)"
      ],
      "metadata": {
        "id": "7_WKSnqHVrq_"
      }
    },
    {
      "cell_type": "code",
      "source": [
        "%cd /content/phira\n",
        "!sed -i 's/ahash = \"=0\\.8\\.6\"/ahash = \"=0.8.7\"/' prpr/Cargo.toml"
      ],
      "metadata": {
        "id": "JxPwx4osVrrA"
      },
      "execution_count": null,
      "outputs": []
    },
    {
      "cell_type": "markdown",
      "metadata": {
        "id": "2UWrtugZ-Ooq"
      },
      "source": [
        "## **Build for Linux x86_64** (First run: ~22m)"
      ]
    },
    {
      "cell_type": "code",
      "execution_count": null,
      "metadata": {
        "id": "7JPkSbgx-Hqg"
      },
      "outputs": [],
      "source": [
        "%cd /content/phira\n",
        "!/root/.cargo/bin/cargo +nightly build --target=x86_64-unknown-linux-gnu --bin phira-main"
      ]
    },
    {
      "cell_type": "markdown",
      "metadata": {
        "id": "-E5Z4oL1-9hO"
      },
      "source": [
        "## **Packaging for Linux x86_64** (~22s)"
      ]
    },
    {
      "cell_type": "code",
      "execution_count": null,
      "metadata": {
        "id": "3MsOGUiX-pn9"
      },
      "outputs": [],
      "source": [
        "%cd /content/phira\n",
        "\n",
        "!curl -s https://api.github.com/repos/TeamFlos/phira/releases/latest \\\n",
        "  | grep -o '\"browser_download_url\": *\"[^\"]*\"' \\\n",
        "  | grep \"linux\" \\\n",
        "  | grep \".zip\\\"\" \\\n",
        "  | sed 's/\"browser_download_url\": \"//' \\\n",
        "  | sed 's/\"$//' \\\n",
        "  | xargs -n 1 curl -o latest-linux.zip -L\n",
        "\n",
        "!mkdir -p out/x86_64-unknown-linux-gnu\n",
        "!unzip latest-linux.zip -d out/x86_64-unknown-linux-gnu\n",
        "!cp -rf assets out/x86_64-unknown-linux-gnu/\n",
        "!cp -f target/x86_64-unknown-linux-gnu/debug/phira-main out/x86_64-unknown-linux-gnu/phira-main\n",
        "\n",
        "%cd /content/phira/out/x86_64-unknown-linux-gnu\n",
        "\n",
        "zip_name=\"Phira-linux-$(date +%s%N).zip\"\n",
        "!zip -rq \"/content/$zip_name\" ."
      ]
    }
  ],
  "metadata": {
    "colab": {
      "collapsed_sections": [
        "59HkYq0x_KqX",
        "ZiDyiS2B7Tn5",
        "Ud6-kfD_7yoW",
        "xWWB_L0q8LVs",
        "AxtkNNJ08ngm",
        "dacYrCDb-bFf"
      ],
      "provenance": [],
      "mount_file_id": "1ZIh19EwoVjlx0zggFAoLONWv-bMvAfMr",
      "authorship_tag": "ABX9TyMCxWe2CM6MTbkMgxQ+j2uL",
      "include_colab_link": true
    },
    "kernelspec": {
      "display_name": "Python 3",
      "name": "python3"
    },
    "language_info": {
      "name": "python"
    }
  },
  "nbformat": 4,
  "nbformat_minor": 0
}